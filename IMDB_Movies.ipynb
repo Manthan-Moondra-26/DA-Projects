{
  "nbformat": 4,
  "nbformat_minor": 0,
  "metadata": {
    "colab": {
      "provenance": [],
      "authorship_tag": "ABX9TyObKDsbxc4XlsSfpj84IyBO",
      "include_colab_link": true
    },
    "kernelspec": {
      "name": "python3",
      "display_name": "Python 3"
    },
    "language_info": {
      "name": "python"
    }
  },
  "cells": [
    {
      "cell_type": "markdown",
      "metadata": {
        "id": "view-in-github",
        "colab_type": "text"
      },
      "source": [
        "<a href=\"https://colab.research.google.com/github/Manthan-Moondra-26/DA-Projects/blob/main/IMDB_Movies.ipynb\" target=\"_parent\"><img src=\"https://colab.research.google.com/assets/colab-badge.svg\" alt=\"Open In Colab\"/></a>"
      ]
    },
    {
      "cell_type": "markdown",
      "source": [
        "Imorting The required modules"
      ],
      "metadata": {
        "id": "ZQ9SRHrpv-uD"
      }
    },
    {
      "cell_type": "code",
      "execution_count": 1,
      "metadata": {
        "id": "iEBgUjXxvzA3"
      },
      "outputs": [],
      "source": [
        "from bs4 import BeautifulSoup\n",
        "import requests\n",
        "import re\n",
        "import pandas as pd"
      ]
    },
    {
      "cell_type": "markdown",
      "source": [
        "Access the HTML content"
      ],
      "metadata": {
        "id": "sRDaOcDYwFZp"
      }
    },
    {
      "cell_type": "code",
      "source": [
        "# Downloading imdb top 250 movie's data\n",
        "url = 'http://www.imdb.com/chart/top'\n",
        "response = requests.get(url)\n",
        "soup = BeautifulSoup(response.text, \"html.parser\")"
      ],
      "metadata": {
        "id": "Mp4TaEuVv1OT"
      },
      "execution_count": 2,
      "outputs": []
    },
    {
      "cell_type": "markdown",
      "source": [
        "Extract movie ratings"
      ],
      "metadata": {
        "id": "-TxtIAy2wI7u"
      }
    },
    {
      "cell_type": "code",
      "source": [
        "movies = soup.select('td.titleColumn')\n",
        "crew = [a.attrs.get('title') for a in soup.select('td.titleColumn a')]\n",
        "ratings = [b.attrs.get('data-value')\n",
        "        for b in soup.select('td.posterColumn span[name=ir]')]"
      ],
      "metadata": {
        "id": "ewpltz2Av4ds"
      },
      "execution_count": 3,
      "outputs": []
    },
    {
      "cell_type": "code",
      "source": [
        "# create a empty list for storing\n",
        "# movie information\n",
        "list = []\n",
        "\n",
        "# Iterating over movies to extract\n",
        "# each movie's details\n",
        "for index in range(0, len(movies)):\n",
        "\n",
        "    # Separating movie into: 'place',\n",
        "    # 'title', 'year'\n",
        "    movie_string = movies[index].get_text()\n",
        "    movie = (' '.join(movie_string.split()).replace('.', ''))\n",
        "    movie_title = movie[len(str(index))+1:-7]\n",
        "    year = re.search('\\((.*?)\\)', movie_string).group(1)\n",
        "    place = movie[:len(str(index))-(len(movie))]\n",
        "    data = {\"place\": place,\n",
        "            \"movie_title\": movie_title,\n",
        "            \"rating\": ratings[index],\n",
        "            \"year\": year,\n",
        "            \"star_cast\": crew[index],\n",
        "            }\n",
        "    list.append(data)"
      ],
      "metadata": {
        "id": "CVHlGgCOv6Wq"
      },
      "execution_count": 4,
      "outputs": []
    },
    {
      "cell_type": "code",
      "source": [
        "for movie in list:\n",
        "    print(movie['place'], '-', movie['movie_title'], '('+movie['year'] +\n",
        "          ') -', 'Starring:', movie['star_cast'], movie['rating'])"
      ],
      "metadata": {
        "id": "cYzsRO1Wv8Jm"
      },
      "execution_count": 5,
      "outputs": []
    },
    {
      "cell_type": "markdown",
      "source": [
        "Sending data to A csv file"
      ],
      "metadata": {
        "id": "PFqCBA2UwTNh"
      }
    },
    {
      "cell_type": "code",
      "source": [
        "#saving the list as dataframe\n",
        "#then converting into .csv file\n",
        "df = pd.DataFrame(list)\n",
        "df.to_csv('imdb_top_250_movies.csv',index=False)"
      ],
      "metadata": {
        "id": "roC3YXqHwRDr"
      },
      "execution_count": 6,
      "outputs": []
    },
    {
      "cell_type": "code",
      "source": [
        "print(df.head)"
      ],
      "metadata": {
        "colab": {
          "base_uri": "https://localhost:8080/"
        },
        "id": "FhtYePUfwWfK",
        "outputId": "b5302331-69ea-4d5d-f51d-2456fa4298c7"
      },
      "execution_count": 7,
      "outputs": [
        {
          "output_type": "stream",
          "name": "stdout",
          "text": [
            "<bound method NDFrame.head of Empty DataFrame\n",
            "Columns: []\n",
            "Index: []>\n"
          ]
        }
      ]
    },
    {
      "cell_type": "code",
      "source": [],
      "metadata": {
        "id": "KooUmxJDwg6O"
      },
      "execution_count": null,
      "outputs": []
    }
  ]
}